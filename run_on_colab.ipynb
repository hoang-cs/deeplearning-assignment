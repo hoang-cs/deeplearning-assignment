{
  "cells": [
    {
      "cell_type": "markdown",
      "metadata": {},
      "source": [
        "# 🎯 Vertebrae Keypoint Estimation - Google Colab\n",
        "\n",
        "**ECCV 2024: Bones Can't Be Triangles**\n",
        "\n",
        "This notebook runs the complete training pipeline for vertebrae keypoint estimation.\n",
        "\n",
        "---\n",
        "\n",
        "## 📋 Before Running:\n",
        "\n",
        "1. **Enable GPU**: `Runtime > Change runtime type > GPU > Save`\n",
        "2. **Update Repository URL** in Cell 1 below\n",
        "3. **Run cells in order** (don't skip cells)\n",
        "4. **Training takes several hours** - keep tab active\n",
        "\n",
        "---\n"
      ]
    },
    {
      "cell_type": "markdown",
      "metadata": {},
      "source": [
        "## 1️⃣ Setup and Clone Repository\n",
        "\n",
        "🔴 **UPDATE `REPO_URL` below with your GitHub repository URL**\n"
      ]
    },
    {
      "cell_type": "code",
      "execution_count": null,
      "metadata": {},
      "outputs": [],
      "source": [
        "import os\n",
        "import sys\n",
        "\n",
        "# Check GPU\n",
        "import torch\n",
        "if torch.cuda.is_available():\n",
        "    print(f\"✅ GPU Available: {torch.cuda.get_device_name(0)}\")\n",
        "else:\n",
        "    print(\"❌ NO GPU! Please enable GPU:\")\n",
        "    print(\"   Runtime > Change runtime type > GPU > Save\")\n",
        "\n",
        "# 🔴 UPDATE THIS with your GitHub repository URL\n",
        "REPO_URL = \"https://github.com/YOUR_USERNAME/YOUR_REPO_NAME.git\"\n",
        "\n",
        "# Clone repository\n",
        "repo_name = REPO_URL.split('/')[-1].replace('.git', '')\n",
        "\n",
        "if not os.path.exists(repo_name):\n",
        "    print(f\"📥 Cloning repository...\")\n",
        "    !git clone {REPO_URL}\n",
        "else:\n",
        "    print(f\"✅ Repository exists, pulling latest...\")\n",
        "    os.chdir(repo_name)\n",
        "    !git pull\n",
        "    os.chdir('..')\n",
        "\n",
        "# Navigate to repository\n",
        "os.chdir(repo_name)\n",
        "print(f\"✅ Working directory: {os.getcwd()}\")\n",
        "\n",
        "# Verify structure\n",
        "if os.path.exists('codes'):\n",
        "    print(\"✅ Project structure verified\")\n",
        "    !ls -la codes/\n",
        "else:\n",
        "    print(\"❌ 'codes' directory not found!\")\n"
      ]
    },
    {
      "cell_type": "markdown",
      "metadata": {},
      "source": [
        "## 2️⃣ Install Dependencies\n",
        "\n",
        "This takes 5-10 minutes.\n"
      ]
    },
    {
      "cell_type": "code",
      "execution_count": null,
      "metadata": {},
      "outputs": [],
      "source": [
        "print(\"📦 Installing dependencies...\")\n",
        "\n",
        "# Install PyTorch with CUDA\n",
        "!pip install -q torch==1.12.0+cu113 torchvision==0.13.0+cu113 torchaudio==0.12.0+cu113 --extra-index-url https://download.pytorch.org/whl/cu113\n",
        "\n",
        "# Install core packages\n",
        "!pip install -q opencv-python==4.6.0.66 albumentations==1.2.1 PyYAML==6.0\n",
        "!pip install -q tensorboard==2.12.0 timm==0.9.7 scikit-image==0.19.3\n",
        "!pip install -q pytz==2022.1 tqdm==4.64.0 matplotlib==3.5.2 pandas==1.4.3 numpy==1.23.1\n",
        "\n",
        "# Try full requirements\n",
        "!pip install -q -r requirements.txt 2>&1 | grep -v ERROR || true\n",
        "\n",
        "print(\"✅ Dependencies installed!\")\n"
      ]
    },
    {
      "cell_type": "markdown",
      "metadata": {},
      "source": [
        "## 3️⃣ Preprocess Data\n"
      ]
    },
    {
      "cell_type": "code",
      "execution_count": null,
      "metadata": {},
      "outputs": [],
      "source": [
        "print(\"🔄 Preprocessing data...\")\n",
        "\n",
        "%cd codes/preprocess_data\n",
        "!python preprocess_data.py\n",
        "%cd ../..\n",
        "\n",
        "print(\"✅ Data preprocessed!\")\n"
      ]
    },
    {
      "cell_type": "markdown",
      "metadata": {},
      "source": [
        "## 4️⃣ Train Main Keypoint Model\n",
        "\n",
        "⏱️ This takes several hours (4-8 hours on T4 GPU)\n"
      ]
    },
    {
      "cell_type": "code",
      "execution_count": null,
      "metadata": {},
      "outputs": [],
      "source": [
        "print(\"🚀 Training main keypoint model...\\n\")\n",
        "\n",
        "%cd codes\n",
        "\n",
        "# THIS IS THE MAIN TRAINING EXECUTION\n",
        "!python -u main.py --seed 42 --config config_AASCE --save_test_prediction --subpixel_inference 15 --use_prev_heatmap_only_for_hint_index\n",
        "\n",
        "%cd ..\n",
        "\n",
        "print(\"\\n✅ Main model training complete!\")\n"
      ]
    },
    {
      "cell_type": "markdown",
      "metadata": {},
      "source": [
        "## 5️⃣ Train AASCE Models (Detector + Corrector)\n",
        "\n",
        "⏱️ This takes 1-2 hours\n"
      ]
    },
    {
      "cell_type": "code",
      "execution_count": null,
      "metadata": {},
      "outputs": [],
      "source": [
        "print(\"🚀 Training AASCE models...\\n\")\n",
        "\n",
        "%cd codes\n",
        "\n",
        "# THIS TRAINS THE DETECTOR AND CORRECTOR\n",
        "!python train_AASCE.py\n",
        "\n",
        "%cd ..\n",
        "\n",
        "print(\"\\n✅ AASCE models training complete!\")\n"
      ]
    },
    {
      "cell_type": "markdown",
      "metadata": {},
      "source": [
        "## 6️⃣ Run Evaluation (Inference)\n"
      ]
    },
    {
      "cell_type": "code",
      "execution_count": null,
      "metadata": {},
      "outputs": [],
      "source": [
        "print(\"📊 Running evaluation...\\n\")\n",
        "\n",
        "%cd codes\n",
        "\n",
        "# EVALUATION/INFERENCE\n",
        "!python evaluate_AASCE.py\n",
        "\n",
        "%cd ..\n",
        "\n",
        "print(\"\\n✅ Evaluation complete!\")\n",
        "print(\"\\n🎉 ALL TRAINING AND EVALUATION COMPLETED SUCCESSFULLY!\")\n"
      ]
    },
    {
      "cell_type": "markdown",
      "metadata": {},
      "source": [
        "## 7️⃣ (Optional) Save Results to Google Drive\n"
      ]
    },
    {
      "cell_type": "code",
      "execution_count": null,
      "metadata": {},
      "outputs": [],
      "source": [
        "from google.colab import drive\n",
        "from datetime import datetime\n",
        "\n",
        "# Mount Google Drive\n",
        "drive.mount('/content/drive')\n",
        "\n",
        "# Create timestamped results directory\n",
        "timestamp = datetime.now().strftime('%Y%m%d_%H%M%S')\n",
        "result_dir = f'/content/drive/MyDrive/vertebrae_results_{timestamp}'\n",
        "\n",
        "!mkdir -p {result_dir}\n",
        "\n",
        "print(\"💾 Saving results to Google Drive...\")\n",
        "\n",
        "# Copy model files\n",
        "!find . -name \"*.pth\" -type f -exec cp {} {result_dir}/ \\; 2>/dev/null\n",
        "\n",
        "# Copy save directories\n",
        "!cp -r save_* {result_dir}/ 2>/dev/null || echo \"No save_ folders\"\n",
        "\n",
        "# Copy logs\n",
        "!cp -r codes/logs {result_dir}/ 2>/dev/null || echo \"No logs\"\n",
        "\n",
        "print(f\"\\n✅ Results saved to: {result_dir}\")\n",
        "!ls -lh {result_dir}/\n"
      ]
    }
  ],
  "metadata": {
    "language_info": {
      "name": "python"
    }
  },
  "nbformat": 4,
  "nbformat_minor": 2
}
